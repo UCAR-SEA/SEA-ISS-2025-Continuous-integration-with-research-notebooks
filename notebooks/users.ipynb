{
 "cells": [
  {
   "metadata": {},
   "cell_type": "markdown",
   "source": [
    "---\n",
    "\n",
    "# Users' perspective  <img src=\"img/users-solid.svg\" width=50>\n",
    "In PySDM and PyMPDATA packages, we enforce a consistent structure across Jupyter-notebooks. This includes three standard badges enabling execution of the notebook on different platforms: Google Colab, Binder, and GitHub.\n",
    "\n",
    "```{admonition} Take-home message\n",
    "Notebooks are self-contained and ready to run! User can open them directly in Colab, Binder, etc.\n",
    "```\n",
    "\n",
    "---"
   ],
   "id": "d2b5a9bbffacb504"
  },
  {
   "metadata": {},
   "cell_type": "markdown",
   "source": [
    "## Visualisations\n",
    "In all example-notebooks, visuals are embedded within the file without storing separate output files in the repository (self-contained). This approach supports:\n",
    "- maintainability for developers, and\n",
    "- usability for researchers who want to run and modify the code themselves.\n",
    "\n",
    "\n",
    "```{admonition} Take-home message\n",
    "Inline visuals make research notebooks easier to maintain and adapt!\n",
    "\n",
    "```\n",
    "---\n",
    "\n",
    "We provide utilities for visualisations via `open-atmos-jupyter-utils` package: \n",
    "### **`show_plot()`**\n",
    "\n",
    "```{admonition} show_plot()\n",
    "- renders inline SVG graphics\n",
    "- adds buttons to save figures as SVG or PDF\n",
    "- provides Google Drive integration on Colab\n",
    "- displays correctly on GitHub\n",
    "```\n",
    "\n",
    "```{admonition} Take-home message\n",
    "Vector graphics =  journal-ready plots.\n",
    "```"
   ],
   "id": "49fa1db4501fdf0d"
  },
  {
   "metadata": {},
   "cell_type": "markdown",
   "source": [
    "#### Minimal example \n",
    "See this minimal usage demo in the `open-atmos-jupyter-utils` repository:\n",
    "\n",
    "[![link to github](https://img.shields.io/static/v1?label=open%20on&logo=github&color=87ce3e&message=GitHub)](https://github.com/open-atmos/jupyter-utils/blob/main/examples/show_plot.ipynb)\n",
    "\n",
    "This notebook reproduces the Mandelbrot set, first  published by Brooks and Matelski (see [Wikipedia: Mandelbrot set](https://en.wikipedia.org/wiki/Mandelbrot_set#History))"
   ],
   "id": "c6f767eef34056cf"
  },
  {
   "metadata": {
    "jupyter": {
     "is_executing": true
    }
   },
   "cell_type": "code",
   "source": [
    "import numpy as np\n",
    "from matplotlib import pyplot \n",
    "from open_atmos_jupyter_utils import show_plot\n",
    "\n",
    "np.seterr(all='ignore')\n",
    "\n",
    "def is_stable(c, n_iters):\n",
    "    z = 0\n",
    "    for _ in range(n_iters):\n",
    "        z = z ** 2 + c \n",
    "    return abs(z) <= 2\n",
    "\n",
    "data = np.array([\n",
    "    re + im * 1j  \n",
    "    for re in np.arange(-2,   1,   3/64)\n",
    "    for im in np.arange(-1.5, 1.5, 3/64)\n",
    "])\n",
    "data = data[is_stable(data, n_iters=20)]\n",
    "\n",
    "pyplot.scatter(data.real, data.imag, marker='.')\n",
    "show_plot()\n"
   ],
   "id": "369dcaa4750ae3ed",
   "outputs": [],
   "execution_count": null
  },
  {
   "metadata": {},
   "cell_type": "markdown",
   "source": [
    "With CI automation, testing routines and version-controlled environments, we ensure notebooks stay up-to-date, satisfying reproducibility requirements.\n",
    "\n",
    "```{admonition} Take-home message\n",
    "Notebooks are powerful for tutorials, but only if kept up-to-date with ongoing development (with CI automation!)\n",
    "```"
   ],
   "id": "44a90d11c00c1cb6"
  },
  {
   "metadata": {},
   "cell_type": "markdown",
   "source": [
    "#### PySDM examples with `show_plot()` usage\n",
    "\n",
    "- [![preview notebook](https://img.shields.io/static/v1?label=render%20on&logo=github&color=87ce3e&message=GitHub)](https://github.com/open-atmos/PySDM/blob/main/examples/PySDM_examples/Lowe_et_al_2019/fig_2.ipynb) [![launch on mybinder.org](https://mybinder.org/badge_logo.svg)](https://mybinder.org/v2/gh/open-atmos/PySDM.git/main?urlpath=lab/tree/examples/PySDM_examples/Lowe_et_al_2019/fig_2.ipynb) [![launch on Colab](https://colab.research.google.com/assets/colab-badge.svg)](https://colab.research.google.com/github/open-atmos/PySDM/blob/main/examples/PySDM_examples/Lowe_et_al_2019/fig_2.ipynb) based on Fig. 2 from\n",
    "  {cite:t}`lowe_2019`\n",
    "- [![preview notebook](https://img.shields.io/static/v1?label=render%20on&logo=github&color=87ce3e&message=GitHub)](https://github.com/open-atmos/PySDM/blob/main/examples/PySDM_examples/deJong_Mackay_et_al_2023/figs_10_11_12_13.ipynb) [![launch on mybinder.org](https://mybinder.org/badge_logo.svg)](https://mybinder.org/v2/gh/open-atmos/PySDM.git/main?urlpath=lab/tree/examples/PySDM_examples/deJong_Mackay_et_al_2023/figs_10_11_12_13.ipynb) [![launch on Colab](https://colab.research.google.com/assets/colab-badge.svg)](https://colab.research.google.com/github/open-atmos/PySDM/blob/main/examples/PySDM_examples/deJong_Mackay_et_al_2023/figs_10_11_12_13.ipynb) based on Fig. 1 from {cite:t}`shipway_2012` --- Including BREAKUP process to demonstrate physical changes to cloud.\n",
    "- [![preview notebook](https://img.shields.io/static/v1?label=render%20on&logo=github&color=87ce3e&message=GitHub)](https://github.com/open-atmos/PySDM/blob/main/examples/PySDM_examples/Miyake_et_al_1968/fig_19.ipynb) [![launch on mybinder.org](https://mybinder.org/badge_logo.svg)](https://mybinder.org/v2/gh/open-atmos/PySDM.git/main?urlpath=lab/tree/examples/PySDM_examples/Miyake_et_al_1968/fig_19.ipynb) [![launch on Colab](https://colab.research.google.com/assets/colab-badge.svg)](https://colab.research.google.com/github/open-atmos/PySDM/blob/main/examples/PySDM_examples/Miyake_et_al_1968/fig_19.ipynb) {cite:t}`miyake_1968`\n",
    "\n",
    "- and more..."
   ],
   "id": "d95072d1c86d2010"
  },
  {
   "metadata": {},
   "cell_type": "markdown",
   "source": [
    "---\n",
    "### **`show_anim()`**\n",
    "\n",
    "```{admonition} show_anim()\n",
    "- uses `matplotlib` and `imageio`\n",
    "- embeds animations as base64 GIFs in `.ipynb`\n",
    "- adds \"Save as GIF\" button and Colab support\n",
    "- renders correctly on GitHub\n",
    "```"
   ],
   "id": "b761c9c3745bd6ac"
  },
  {
   "metadata": {},
   "cell_type": "markdown",
   "source": [
    "#### Minimal example\n",
    " Example usage available in the `open-atmos-jupyter-utils` repository:\n",
    "[![link to github](https://img.shields.io/static/v1?label=open%20on&logo=github&color=87ce3e&message=GitHub)](https://github.com/open-atmos/jupyter-utils/blob/main/examples/show_anim.ipynb)"
   ],
   "id": "b051bcc53387c279"
  },
  {
   "metadata": {
    "jupyter": {
     "is_executing": true
    }
   },
   "cell_type": "code",
   "source": [
    "from matplotlib import pyplot\n",
    "from open_atmos_jupyter_utils import show_anim \n",
    "\n",
    "def anim_func(frame):\n",
    "    pyplot.plot([(1j**((i+frame)/100)).real for i in range(500)])    \n",
    "    return pyplot.gcf()\n",
    "\n",
    "show_anim(anim_func, frame_range=range(50))"
   ],
   "id": "65219bc980913b69",
   "outputs": [],
   "execution_count": null
  },
  {
   "metadata": {},
   "cell_type": "markdown",
   "source": [
    "\n",
    "\n",
    "---"
   ],
   "id": "3ecdd266d12cafd4"
  },
  {
   "metadata": {},
   "cell_type": "markdown",
   "source": [
    "# DEMO - Users' perspective\n",
    "\n",
    "Here we show how a user can open a notebook in Colab and generate an animation directly within the file:\n",
    "<video width=320 height=240 controls>\n",
    "  <source src=\"../_static/2_users.mp4\" type=\"video/mp4\">\n",
    "Your browser does not support the video tag.\n",
    "</video>"
   ],
   "id": "c6b58c659f10e673"
  },
  {
   "metadata": {},
   "cell_type": "markdown",
   "source": "<img src=\"img/signs-post-solid.svg\" width=50> On to the summary!",
   "id": "30f6c6a80efaaad8"
  }
 ],
 "metadata": {
  "kernelspec": {
   "display_name": "Python 3",
   "language": "python",
   "name": "python3"
  },
  "language_info": {
   "codemirror_mode": {
    "name": "ipython",
    "version": 2
   },
   "file_extension": ".py",
   "mimetype": "text/x-python",
   "name": "python",
   "nbconvert_exporter": "python",
   "pygments_lexer": "ipython2",
   "version": "2.7.6"
  }
 },
 "nbformat": 4,
 "nbformat_minor": 5
}
