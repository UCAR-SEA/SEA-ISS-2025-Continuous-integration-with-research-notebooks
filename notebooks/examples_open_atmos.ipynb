{
 "cells": [
  {
   "metadata": {},
   "cell_type": "markdown",
   "source": [
    "# **open-atmos** packages <img src=img/code-branch-solid.svg width=50>\n",
    "Before going into specific descriptions of our proposed solutions, let us introduce open-source Pythonic packages that will serve as examples and show-cases. All of them are developed and maintained by `open-atmos` contributors [![link to GitHub](https://img.shields.io/static/v1?label=open-atmos%20on&logo=github&color=87ce3e&message=GitHub)](https://github.com/open-atmos).\n",
    "Packages started over 5 years ago, hence, serve as good examples for discussion about maintainability.\n",
    "\n",
    "\n",
    "\n",
    "---"
   ],
   "id": "dfb70f142ca8dea8"
  },
  {
   "metadata": {},
   "cell_type": "markdown",
   "source": "## PySDM               <img src=\"img/pysdm_logo.svg\" width=50>\n",
   "id": "14cf587c676a7f5a"
  },
  {
   "metadata": {},
   "cell_type": "markdown",
   "source": "**PySDM** is a package for simulating the dynamics of a population of particles undergoing diffusional and collisional growth (and breakage). The package features a **Pythonic high-performance (multithreaded CPU & CUDA GPU)** implementation of the **Super-Droplet Method (SDM) Monte-Carlo** algorithm for representing collisional growth {cite:t}`shima_2009`, hence the name. ",
   "id": "dbd0d47f20653217"
  },
  {
   "metadata": {},
   "cell_type": "markdown",
   "source": "The animation from the landing page [PySDM Documentation](https://open-atmos.github.io/PySDM/)",
   "id": "36f2918c1cb5a5a1"
  },
  {
   "metadata": {},
   "cell_type": "markdown",
   "source": [
    "<img width=\"600\" height=\"300\" \n",
    "       src=\"https://github.com/open-atmos/PySDM/releases/download/tip/docs_intro_animation_ubuntu-24.04.gif\"  \n",
    ">\n"
   ],
   "id": "ad716203a382e4a1"
  },
  {
   "metadata": {},
   "cell_type": "markdown",
   "source": [
    "[![link to GitHub](https://img.shields.io/static/v1?label=PySDM%20on&logo=github&color=87ce3e&message=GitHub)](https://github.com/open-atmos/PySDM)\n",
    "[![PyPI version](https://badge.fury.io/py/PySDM.svg)](https://pypi.org/project/PySDM)\n",
    "\n",
    "---"
   ],
   "id": "30fcbf22c0ad8ab5"
  },
  {
   "metadata": {},
   "cell_type": "markdown",
   "source": [
    "## PyMPDATA <img src=\"img/pympdata_logo.svg\" width=50>\n",
    " "
   ],
   "id": "11d9d3f67447313f"
  },
  {
   "metadata": {},
   "cell_type": "markdown",
   "source": [
    "**PyMPDATA** is a **Numba-accelerated multithreaded Pythonic** implementation of the **MPDATA algorithm** of {cite:t}`smolarkiewicz_1984` used in geophysical fluid dynamics for solving convection-diffusion PDEs. PyMPDATA supports integration in 1D, 2D, and 3D structured meshes with optional coordinate transformations. \n",
    "\n",
    "More information and examples can be found in [PyMPDATA Documentation](https://open-atmos.github.io/PyMPDATA/)"
   ],
   "id": "2bb28aee67aa0fba"
  },
  {
   "metadata": {},
   "cell_type": "markdown",
   "source": [
    "\n",
    "[![link to github](https://img.shields.io/static/v1?label=PyMPDATA%20on&logo=github&color=87ce3e&message=GitHub)](https://github.com/open-atmos/PyMPDATA)\n",
    "[![PyPI version](https://badge.fury.io/py/PyMPDATA.svg)](https://pypi.org/project/PyMPDATA)\n",
    "\n",
    "---"
   ],
   "id": "54176936ddca2b5f"
  },
  {
   "metadata": {},
   "cell_type": "markdown",
   "source": "## open-atmos-jupyter-utils <img src=img/Atmos-logo-vert.svg width=70>",
   "id": "276125af24250ee2"
  },
  {
   "metadata": {},
   "cell_type": "markdown",
   "source": [
    "`open-atmos-jupyter-utils` is a Python package providing Jupyter notebook utility routines for:\n",
    "- presenting [Matplotlib](https://matplotlib.org) plots as either SVG vector graphics or animated GIFs, embedding them within the notebooks, and rendering correctly in [GitHub's Rich Jupyter Notebook diffs](https://github.blog/changelog/2023-03-01-feature-preview-rich-jupyter-notebook-diffs/)\n",
    "- save-as buttons below each figure (triggering [Google-Drive downloads](https://colab.research.google.com/notebooks/io.ipynb#scrollTo=hauvGV4hV-Mh) on [Colab](https://colab.google/))\n",
    "- execution of unmodified notebook code for automated testing (e.g., within [pytest fixtures](https://docs.pytest.org/en/stable/explanation/fixtures.html))\n",
    "- pip-installation of external packages on Colab safeguarded against [alterations of Google-shipped packages](https://github.com/googlecolab/colabtools/issues/2837)\n",
    " \n",
    "Can be installed via `pip`\n",
    "\n",
    "```\n",
    "pip install open-atmos-jupyter-utils\n",
    "```"
   ],
   "id": "aa2be4d35378db2"
  },
  {
   "metadata": {},
   "cell_type": "markdown",
   "source": [
    "[![link to GitHub](https://img.shields.io/static/v1?label=open-atmos-jupyter-utils%20on&logo=github&color=87ce3e&message=GitHub)](https://github.com/open-atmos/jupyter-utils)\n",
    "[![PyPI version](https://badge.fury.io/py/open-atmos-jupyter-utils.svg)](https://pypi.org/project/open-atmos-jupyter-utils)\n",
    "\n",
    "---"
   ],
   "id": "c5fb165e684cf025"
  },
  {
   "metadata": {},
   "cell_type": "markdown",
   "source": [
    "#### Next part links challenges of the maintainability of research-results reproducibility with solutions developed during evolution of the packages mentioned above. We divided it into sections concerning developers' and users' gains. \n",
    "\n",
    "<img src=\"img/signs-post-solid.svg\" width=50> Let's start with the developers' perspective!\n"
   ],
   "id": "170cf87b985f601b"
  },
  {
   "metadata": {},
   "cell_type": "code",
   "outputs": [],
   "execution_count": null,
   "source": "",
   "id": "5a68ff389829630"
  }
 ],
 "metadata": {
  "kernelspec": {
   "display_name": "Python 3",
   "language": "python",
   "name": "python3"
  },
  "language_info": {
   "codemirror_mode": {
    "name": "ipython",
    "version": 2
   },
   "file_extension": ".py",
   "mimetype": "text/x-python",
   "name": "python",
   "nbconvert_exporter": "python",
   "pygments_lexer": "ipython2",
   "version": "2.7.6"
  }
 },
 "nbformat": 4,
 "nbformat_minor": 5
}
